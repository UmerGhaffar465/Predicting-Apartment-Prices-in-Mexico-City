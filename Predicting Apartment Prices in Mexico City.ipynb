{
 "cells": [
  {
   "cell_type": "markdown",
   "id": "1d556666",
   "metadata": {},
   "source": [
    "# Predicting Apartment Prices in Mexico City"
   ]
  },
  {
   "cell_type": "markdown",
   "id": "a8f66136",
   "metadata": {},
   "source": [
    "we'll decide which libraries you need to complete the tasks. You can import them in the cell below"
   ]
  },
  {
   "cell_type": "code",
   "execution_count": null,
   "id": "a34d1c07",
   "metadata": {},
   "outputs": [],
   "source": [
    "# Import libraries here\n",
    "import warnings\n",
    "from glob import glob\n",
    "import matplotlib.pyplot as plt\n",
    "\n",
    "import pandas as pd\n",
    "import seaborn as sns\n",
    "from category_encoders import OneHotEncoder\n",
    "from ipywidgets import Dropdown, FloatSlider, IntSlider, interact\n",
    "from sklearn.impute import SimpleImputer\n",
    "from sklearn.linear_model import LinearRegression, Ridge  # noqa F401\n",
    "from sklearn.metrics import mean_absolute_error\n",
    "from sklearn.pipeline import make_pipeline\n",
    "from sklearn.utils.validation import check_is_fitted\n",
    "\n",
    "warnings.simplefilter(action=\"ignore\", category=FutureWarning)"
   ]
  },
  {
   "cell_type": "markdown",
   "id": "d2ed0bbe",
   "metadata": {},
   "source": [
    "# Prepare Data"
   ]
  },
  {
   "cell_type": "markdown",
   "id": "4ed0ce0d",
   "metadata": {},
   "source": [
    "## Import"
   ]
  },
  {
   "cell_type": "markdown",
   "id": "4d22596b",
   "metadata": {},
   "source": [
    "Write a `wrangle` function that takes the name of a CSV file as input and returns a DataFrame. The function should do the following steps:\n",
    "\n",
    "1. Subset the data in the CSV file and return only apartments in Mexico City (`\"Distrito Federal\"`) that cost less than \\$100,000.\n",
    "2. Remove outliers by trimming the bottom and top 10\\% of properties in terms of `\"surface_covered_in_m2\"`.\n",
    "3. Create separate `\"lat\"` and `\"lon\"` columns.\n",
    "4. Mexico City is divided into [16 boroughs](https://en.wikipedia.org/wiki/Boroughs_of_Mexico_City). Create a `\"borough\"` feature from the `\"place_with_parent_names\"` column.\n",
    "5. Drop columns that are more than 50\\% null values.\n",
    "6. Drop columns containing low- or high-cardinality categorical values. \n",
    "7. Drop any columns that would constitute leakage for the target `\"price_aprox_usd\"`.\n",
    "8. Drop any columns that would create issues of multicollinearity. \n",
    "\n",
    "<div class=\"alert alert-block alert-info\">\n",
    "<b>Tip:</b> Don't try to satisfy all the criteria in the first version of your <code>wrangle</code> function. Instead, work iteratively. Start with the first criteria, test it out with one of the Mexico CSV files in the <code>data/</code> directory, Then add the next criteria.</div>"
   ]
  },
  {
   "cell_type": "code",
   "execution_count": null,
   "id": "ce31daf9",
   "metadata": {},
   "outputs": [],
   "source": [
    "# Build your `wrangle` function\n",
    "def wrangle(filepath):\n",
    "    df=pd.read_csv(filepath)\n",
    "     # Subset data: Apartments in \"Capital Federal\", less than 100,000\n",
    "    mask_ba = df[\"place_with_parent_names\"].str.contains(\"Distrito Federal\")\n",
    "    mask_apt = df[\"property_type\"] == \"apartment\"\n",
    "    mask_price = df[\"price_aprox_usd\"] < 100_000\n",
    "    df = df[mask_ba & mask_apt & mask_price]\n",
    "    # Subset data: Remove outliers for \"surface_covered_in_m2\"\n",
    "    low, high = df[\"surface_covered_in_m2\"].quantile([0.1, 0.9])\n",
    "    mask_area = df[\"surface_covered_in_m2\"].between(low, high)\n",
    "    df = df[mask_area]\n",
    "    # Split \"lat-lon\" column\n",
    "    df[[\"lat\", \"lon\"]] = df[\"lat-lon\"].str.split(\",\", expand=True).astype(float)\n",
    "    df.drop(columns=\"lat-lon\", inplace=True)\n",
    "    # Get place name\n",
    "    df[\"borough\"] = df[\"place_with_parent_names\"].str.split(\"|\", expand=True)[1]\n",
    "    df.drop(columns=\"place_with_parent_names\", inplace=True)\n",
    "    # drop null value columns\n",
    "    df.drop(columns=['surface_total_in_m2','price_usd_per_m2','floor','rooms','expenses'],inplace=True)\n",
    "    # drop low and high cardinality columns\n",
    "    df.drop(columns=['operation','property_type','currency','properati_url'],inplace=True)\n",
    "    #drop leaky columns\n",
    "    df.drop(columns=['price','price_aprox_local_currency','price_per_m2'],inplace=True)\n",
    "\n",
    "    \n",
    "    return df"
   ]
  },
  {
   "cell_type": "code",
   "execution_count": null,
   "id": "ee7a4eef",
   "metadata": {},
   "outputs": [],
   "source": [
    "# Use this cell to test your wrangle function and explore the data\n",
    "df=wrangle('data/mexico-city-real-estate-1.csv')\n",
    "df.head()"
   ]
  },
  {
   "cell_type": "markdown",
   "id": "bca36f05",
   "metadata": {},
   "source": [
    "Use glob to create the list `files`. It should contain the filenames of all the Mexico City real estate CSVs in the `./data` directory, except for `mexico-city-test-features.csv`."
   ]
  },
  {
   "cell_type": "code",
   "execution_count": null,
   "id": "bdc42418",
   "metadata": {},
   "outputs": [],
   "source": [
    "files= glob('data/mexico-city-real-estate-*.csv')\n",
    "files[:5]"
   ]
  },
  {
   "cell_type": "markdown",
   "id": "d421702b",
   "metadata": {},
   "source": [
    "Combine your `wrangle` function, a list comprehension, and `pd.concat` to create a DataFrame `df`. It should contain all the properties from the five CSVs in `files`."
   ]
  },
  {
   "cell_type": "code",
   "execution_count": null,
   "id": "5fc1647b",
   "metadata": {},
   "outputs": [],
   "source": [
    "frames=[wrangle(file) for file in files]\n",
    "df = pd.concat(frames,ignore_index=True)\n",
    "print(df.info())\n",
    "df.head()"
   ]
  },
  {
   "cell_type": "markdown",
   "id": "ba80b682",
   "metadata": {},
   "source": [
    "## Explore"
   ]
  },
  {
   "cell_type": "markdown",
   "id": "10f56d55",
   "metadata": {},
   "source": [
    "Create a histogram showing the distribution of apartment prices (`\"price_aprox_usd\"`) in `df`. Be sure to label the x-axis `\"Area [sq meters]\"`, the y-axis `\"Count\"`, and give it the title `\"Distribution of Apartment Prices\"`.\n",
    "\n",
    "What does the distribution of price look like? Is the data normal, a little skewed, or very skewed?"
   ]
  },
  {
   "cell_type": "code",
   "execution_count": null,
   "id": "7cf3f061",
   "metadata": {},
   "outputs": [],
   "source": [
    "# Plot distribution of price\n",
    "plt.hist(df['price_aprox_usd'])\n",
    "plt.xlabel('Area [sq meters]')\n",
    "plt.ylabel('Count')\n",
    "plt.title('Distribution of Apartment Prices')\n",
    "plt.show()"
   ]
  },
  {
   "cell_type": "markdown",
   "id": "bb393a86",
   "metadata": {},
   "source": [
    "Create a scatter plot that shows apartment price (`\"price_aprox_usd\"`) as a function of apartment size (`\"surface_covered_in_m2\"`). Be sure to label your axes `\"Price [USD]\"` and `\"Area [sq meters]\"`, respectively. Your plot should have the title `\"Mexico City: Price vs. Area\"`.\n",
    "\n",
    "Do you see a relationship between price and area in the data? How is this similar to or different from the Buenos Aires dataset?"
   ]
  },
  {
   "cell_type": "code",
   "execution_count": null,
   "id": "4b01ae46",
   "metadata": {},
   "outputs": [],
   "source": [
    "# Plot price vs area\n",
    "plt.scatter(df['surface_covered_in_m2'],df['price_aprox_usd'])\n",
    "plt.xlabel('Area [sq meters]')\n",
    "plt.ylabel('Price [USD]')\n",
    "plt.title('Mexico City: Price vs. Area')\n",
    "plt.show()"
   ]
  },
  {
   "cell_type": "markdown",
   "id": "ef3305e5",
   "metadata": {},
   "source": [
    "## Split"
   ]
  },
  {
   "cell_type": "markdown",
   "id": "f1170fae",
   "metadata": {},
   "source": [
    "Create your feature matrix `X_train` and target vector `y_train`. Your target is `\"price_aprox_usd\"`. Your features should be all the columns that remain in the DataFrame you cleaned above."
   ]
  },
  {
   "cell_type": "code",
   "execution_count": null,
   "id": "3efb45a9",
   "metadata": {},
   "outputs": [],
   "source": [
    "# Split data into feature matrix `X_train` and target vector `y_train`.\n",
    "\n",
    "X_train = df.drop(columns=['price_aprox_usd'])\n",
    "y_train = df['price_aprox_usd']"
   ]
  },
  {
   "cell_type": "markdown",
   "id": "b2646569",
   "metadata": {},
   "source": [
    "# Build Model"
   ]
  },
  {
   "cell_type": "markdown",
   "id": "b49da30b",
   "metadata": {},
   "source": [
    "## Baseline"
   ]
  },
  {
   "cell_type": "markdown",
   "id": "5e877e44",
   "metadata": {},
   "source": [
    "Calculate the baseline mean absolute error for your model"
   ]
  },
  {
   "cell_type": "code",
   "execution_count": null,
   "id": "b5536936",
   "metadata": {},
   "outputs": [],
   "source": [
    "y_mean = y_train.mean()\n",
    "y_pred_baseline = [y_mean]*len(y_train)\n",
    "baseline_mae = mean_absolute_error(y_train,y_pred_baseline)\n",
    "print(\"Mean apt price:\", y_mean)\n",
    "print(\"Baseline MAE:\", baseline_mae)"
   ]
  },
  {
   "cell_type": "markdown",
   "id": "bd624959",
   "metadata": {},
   "source": [
    "## Iterate"
   ]
  },
  {
   "cell_type": "markdown",
   "id": "3d36d9b1",
   "metadata": {},
   "source": [
    "Create a pipeline named `model` that contains all the transformers necessary for this dataset and one of the predictors you've used during this project. Then fit your model to the training data."
   ]
  },
  {
   "cell_type": "code",
   "execution_count": null,
   "id": "dd308a3d",
   "metadata": {},
   "outputs": [],
   "source": [
    "# Build Model\n",
    "model = make_pipeline(OneHotEncoder(use_cat_names=True),SimpleImputer(),Ridge())\n",
    "# Fit model\n",
    "model.fit(X_train,y_train)"
   ]
  },
  {
   "cell_type": "markdown",
   "id": "72318700",
   "metadata": {},
   "source": [
    "## Evaluate"
   ]
  },
  {
   "cell_type": "markdown",
   "id": "48433f79",
   "metadata": {},
   "source": [
    "Read the CSV file `mexico-city-test-features.csv` into the DataFrame `X_test`."
   ]
  },
  {
   "cell_type": "markdown",
   "id": "f6ac0793",
   "metadata": {},
   "source": [
    "<div class=\"alert alert-block alert-info\">\n",
    "<b>Tip:</b> Make sure the <code>X_train</code> you used to train your model has the same column order as <code>X_test</code>. Otherwise, it may hurt your model's performance.\n",
    "</div>"
   ]
  },
  {
   "cell_type": "code",
   "execution_count": null,
   "id": "aeaeadc8",
   "metadata": {},
   "outputs": [],
   "source": [
    "X_test = pd.read_csv('data/mexico-city-test-features.csv')\n",
    "print(X_test.info())\n",
    "X_test.head()"
   ]
  },
  {
   "cell_type": "markdown",
   "id": "71a0f422",
   "metadata": {},
   "source": [
    "Use your model to generate a Series of predictions for `X_test`. When you submit your predictions to the grader, it will calculate the mean absolute error for your model."
   ]
  },
  {
   "cell_type": "code",
   "execution_count": null,
   "id": "ccc45250",
   "metadata": {},
   "outputs": [],
   "source": [
    "y_test_pred = pd.Series(model.predict(X_test))\n",
    "y_test_pred.head()"
   ]
  },
  {
   "cell_type": "markdown",
   "id": "3e03209d",
   "metadata": {},
   "source": [
    "# Communicate Results"
   ]
  },
  {
   "cell_type": "markdown",
   "id": "afb47d36",
   "metadata": {},
   "source": [
    "Create a Series named `feat_imp`. The index should contain the names of all the features your model considers when making predictions; the values should be the coefficient values associated with each feature. The Series should be sorted ascending by absolute value. "
   ]
  },
  {
   "cell_type": "code",
   "execution_count": null,
   "id": "e66745a2",
   "metadata": {},
   "outputs": [],
   "source": [
    "coefficients = model.named_steps['ridge'].coef_\n",
    "features = model.named_steps['onehotencoder'].get_feature_names()\n",
    "feat_imp = pd.Series(coefficients,index=features).sort_values(ascending=True,key=abs)\n",
    "feat_imp"
   ]
  },
  {
   "cell_type": "markdown",
   "id": "cce56bd6",
   "metadata": {},
   "source": [
    "Create a horizontal bar chart that shows the **10 most influential** coefficients for your model. Be sure to label your x- and y-axis `\"Importance [USD]\"` and `\"Feature\"`, respectively, and give your chart the title `\"Feature Importances for Apartment Price\"`."
   ]
  },
  {
   "cell_type": "code",
   "execution_count": null,
   "id": "38d7388a",
   "metadata": {},
   "outputs": [],
   "source": [
    "# Create horizontal bar chart\n",
    "feat_imp.head(10).plot(kind='barh')"
   ]
  }
 ],
 "metadata": {
  "kernelspec": {
   "display_name": "Python 3 (ipykernel)",
   "language": "python",
   "name": "python3"
  },
  "language_info": {
   "codemirror_mode": {
    "name": "ipython",
    "version": 3
   },
   "file_extension": ".py",
   "mimetype": "text/x-python",
   "name": "python",
   "nbconvert_exporter": "python",
   "pygments_lexer": "ipython3",
   "version": "3.7.6"
  }
 },
 "nbformat": 4,
 "nbformat_minor": 5
}
